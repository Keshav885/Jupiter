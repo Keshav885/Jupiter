{
 "cells": [
  {
   "cell_type": "code",
   "execution_count": 1,
   "metadata": {},
   "outputs": [
    {
     "name": "stdout",
     "output_type": "stream",
     "text": [
      "Hi!,Please enter your name?\n",
      "keshav\n",
      "Nice to see you, keshav \n",
      "\n",
      "Lets play a game called, Guess the Number\n",
      " \n",
      "keshav ,guess the number I am thinking of now in range from 1 to 20 \n",
      "\n",
      "take a guess between 0 to 20: \n",
      "9\n",
      "Your guess is too high. \n",
      "\n",
      "take a guess between 0 to 20: \n",
      "6\n",
      "Your guess is too high. \n",
      "\n",
      "take a guess between 0 to 20: \n",
      "3\n",
      "Good job, keshav you got it in 3 guesses\n"
     ]
    }
   ],
   "source": [
    "import random\n",
    "\n",
    "n= random.randint(1,21)\n",
    "\n",
    "chance=1\n",
    "\n",
    "name= str(input('Hi!,Please enter your name?\\n'))\n",
    "\n",
    "print('Nice to see you,',name, '\\n')\n",
    "\n",
    "print('Lets play a game called, Guess the Number\\n ')\n",
    "print(name+' ,guess the number I am thinking of now in range from 1 to 20 \\n' )\n",
    "\n",
    "while chance<=5:\n",
    "      \n",
    "        number =int(input('take a guess between 0 to 20: \\n'))\n",
    "        \n",
    "        if  number > n:\n",
    "            print('Your guess is too high. \\n')\n",
    "        if number < n:\n",
    "            print ('Your guess is too low. \\n ')\n",
    "        if n == number:\n",
    "            print('Good job,',name ,'you got it in {} guesses' .format(chance))\n",
    "            break\n",
    "        chance+=1\n",
    "\n",
    "else:\n",
    "    print( 'Nope. The number I was thinking of is {0}'.format(n))\n"
   ]
  },
  {
   "cell_type": "code",
   "execution_count": 2,
   "metadata": {},
   "outputs": [
    {
     "name": "stdout",
     "output_type": "stream",
     "text": [
      "3\n"
     ]
    }
   ],
   "source": [
    "print(n)"
   ]
  },
  {
   "cell_type": "code",
   "execution_count": null,
   "metadata": {
    "collapsed": true
   },
   "outputs": [],
   "source": []
  }
 ],
 "metadata": {
  "kernelspec": {
   "display_name": "Python 3",
   "language": "python",
   "name": "python3"
  },
  "language_info": {
   "codemirror_mode": {
    "name": "ipython",
    "version": 3
   },
   "file_extension": ".py",
   "mimetype": "text/x-python",
   "name": "python",
   "nbconvert_exporter": "python",
   "pygments_lexer": "ipython3",
   "version": "3.6.1"
  }
 },
 "nbformat": 4,
 "nbformat_minor": 2
}
