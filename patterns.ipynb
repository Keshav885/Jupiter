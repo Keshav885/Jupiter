{
 "cells": [
  {
   "cell_type": "code",
   "execution_count": 7,
   "metadata": {
    "collapsed": false
   },
   "outputs": [],
   "source": [
    "from __future__ import print_function\n"
   ]
  },
  {
   "cell_type": "code",
   "execution_count": 8,
   "metadata": {
    "collapsed": false
   },
   "outputs": [
    {
     "name": "stdout",
     "output_type": "stream",
     "text": [
      "Please enter the number of iterations:5\n",
      "Enter a number from [1, 2, 3, 4] for choices \n",
      "\n",
      "Enter your choice:5\n",
      "Invalid choice\n",
      "Enter a number from [1, 2, 3, 4] for choices \n",
      "\n",
      "Enter your choice:3\n",
      "your choice is 3\n",
      "Enter a number from [1, 2, 3, 4] for choices \n",
      "\n",
      "Enter your choice:\n"
     ]
    },
    {
     "ename": "SyntaxError",
     "evalue": "unexpected EOF while parsing (<string>, line 0)",
     "output_type": "error",
     "traceback": [
      "\u001b[0;36m  File \u001b[0;32m\"<string>\"\u001b[0;36m, line \u001b[0;32munknown\u001b[0m\n\u001b[0;31m    \u001b[0m\n\u001b[0m    ^\u001b[0m\n\u001b[0;31mSyntaxError\u001b[0m\u001b[0;31m:\u001b[0m unexpected EOF while parsing\n"
     ]
    }
   ],
   "source": [
    "n = int(input('Please enter the number of iterations:'))\n",
    "\n",
    "for i in range(0,n):\n",
    "\n",
    "    print('Enter a number from',range(1,n), 'for choices \\n')\n",
    "    choice = int(input('Enter your choice:'))\n",
    "\n",
    "    if (choice == 1):\n",
    "        print('your choice is',choice)\n",
    "    elif(choice ==2):\n",
    "        print('your choice is',choice)\n",
    "    elif(choice ==3):\n",
    "        print('your choice is',choice)\n",
    "    else:\n",
    "        print('Invalid choice')"
   ]
  },
  {
   "cell_type": "code",
   "execution_count": 58,
   "metadata": {
    "collapsed": false
   },
   "outputs": [
    {
     "name": "stdout",
     "output_type": "stream",
     "text": [
      "Please enter a number 9\n",
      "          0\n",
      "         1 1\n",
      "        2 2 2\n",
      "       3 3 3 3\n",
      "      4 4 4 4 4\n",
      "     5 5 5 5 5 5\n",
      "    6 6 6 6 6 6 6\n",
      "   7 7 7 7 7 7 7 7\n",
      "  8 8 8 8 8 8 8 8 8\n"
     ]
    }
   ],
   "source": [
    "n= int(input('Please enter a number '))\n",
    "\n",
    "for i in range(n):\n",
    "    for j in range(n):\n",
    "        print(' ',end='')\n",
    "    for j in range(i+1):\n",
    "        print('',i, end='')\n",
    "    print()\n",
    "    n-=1"
   ]
  },
  {
   "cell_type": "code",
   "execution_count": 12,
   "metadata": {
    "collapsed": false
   },
   "outputs": [
    {
     "name": "stdout",
     "output_type": "stream",
     "text": [
      "Please enter a number 5\n",
      "      0\n",
      "     1 1\n",
      "    2 2 2\n",
      "   3 3 3 3\n",
      "  4 4 4 4 4\n",
      " 5 5 5 5 5 5\n"
     ]
    }
   ],
   "source": [
    "n= int(input('Please enter a number '))\n",
    "\n",
    "for i in range(n+1):\n",
    "    print(' '*(n-i), end='')\n",
    "    for j in range(i+1):\n",
    "        print('',i, end='')\n",
    "    print()"
   ]
  },
  {
   "cell_type": "code",
   "execution_count": 17,
   "metadata": {
    "collapsed": false
   },
   "outputs": [
    {
     "name": "stdout",
     "output_type": "stream",
     "text": [
      "54321012345\n",
      "54321012345\n",
      "54321012345\n",
      "54321012345\n",
      "54321012345\n",
      "54321012345\n",
      "54321012345\n",
      "54321012345\n",
      "54321012345\n",
      "54321012345\n",
      "54321012345\n"
     ]
    }
   ],
   "source": [
    "for i in range(-5,6):\n",
    "    for j in range(-5,6):\n",
    "        print(abs(j),end='')\n",
    "    print()"
   ]
  },
  {
   "cell_type": "code",
   "execution_count": 18,
   "metadata": {
    "collapsed": false
   },
   "outputs": [
    {
     "name": "stdout",
     "output_type": "stream",
     "text": [
      "Please enter a number 5\n",
      "\n",
      "     0\n",
      "    101\n",
      "   21012\n",
      "  3210123\n",
      " 432101234\n",
      "54321012345\n"
     ]
    }
   ],
   "source": [
    "n= int(input('Please enter a number '))\n",
    "print()\n",
    "for i in range(n+1):\n",
    "    print(' '*(n-i),end='')\n",
    "    for j in range(-i,i+1):\n",
    "        print(abs(j),end='')\n",
    "    print()"
   ]
  },
  {
   "cell_type": "code",
   "execution_count": 19,
   "metadata": {
    "collapsed": false
   },
   "outputs": [
    {
     "name": "stdout",
     "output_type": "stream",
     "text": [
      "Please enter a number 9\n",
      "\n",
      "         0\n",
      "        101\n",
      "       21012\n",
      "      3210123\n",
      "     432101234\n",
      "    54321012345\n",
      "   6543210123456\n",
      "  765432101234567\n",
      " 87654321012345678\n",
      "9876543210123456789\n",
      " 87654321012345678\n",
      "  765432101234567\n",
      "   6543210123456\n",
      "    54321012345\n",
      "     432101234\n",
      "      3210123\n",
      "       21012\n",
      "        101\n",
      "         0\n"
     ]
    }
   ],
   "source": [
    "n= int(input('Please enter a number '))\n",
    "print()\n",
    "for i in range(n+1):\n",
    "    print(' '*(n-i),end='')\n",
    "    for j in range(-i,i+1):\n",
    "        print(abs(j),end='')\n",
    "    print()\n",
    "for i in range(n ,0, -1):\n",
    "    print(' '*((n+1)-i),end='')\n",
    "    for j in range(1-i,i):\n",
    "        print(abs(j),end='')\n",
    "    print()\n",
    "    "
   ]
  },
  {
   "cell_type": "code",
   "execution_count": 20,
   "metadata": {
    "collapsed": false
   },
   "outputs": [
    {
     "name": "stdout",
     "output_type": "stream",
     "text": [
      "Please input side length of diamond: 5\n",
      "     \n",
      "    1\n",
      "   222\n",
      "  33333\n",
      " 4444444\n",
      "555555555\n",
      " 4444444\n",
      "  33333\n",
      "   222\n",
      "    1\n"
     ]
    }
   ],
   "source": [
    "n = int(input(\"Please input side length of diamond: \"))\n",
    "if n> 0:           \n",
    "    for i in range(n):\n",
    "        for s in range (n - i) :\n",
    "            print(\" \", end=\"\")\n",
    "        for j in range((i * 2) - 1):\n",
    "            print(i, end=\"\")\n",
    "        print()\n",
    "    for i in range(n, 0, -1):\n",
    "        for s in range (n-i) :\n",
    "            print(\" \", end=\"\")\n",
    "        for j in range((i * 2) - 1):\n",
    "            print(i, end=\"\")\n",
    "        print()"
   ]
  },
  {
   "cell_type": "code",
   "execution_count": 53,
   "metadata": {
    "collapsed": false
   },
   "outputs": [],
   "source": [
    "for i in range(1,1):\n",
    "    print(i,end='')"
   ]
  },
  {
   "cell_type": "code",
   "execution_count": 22,
   "metadata": {
    "collapsed": false
   },
   "outputs": [
    {
     "data": {
      "text/plain": [
       "u'/Users/keshav/Jupiter'"
      ]
     },
     "execution_count": 22,
     "metadata": {},
     "output_type": "execute_result"
    }
   ],
   "source": [
    "pwd"
   ]
  },
  {
   "cell_type": "code",
   "execution_count": 29,
   "metadata": {
    "collapsed": false
   },
   "outputs": [
    {
     "name": "stdout",
     "output_type": "stream",
     "text": [
      "i = 0 :0 0 0 0 0 0 0 0 0 \n",
      "i = 1 :1 2 3 4 5 6 7 8 9 \n",
      "i = 2 :2 4 6 8 10 12 14 16 18 \n"
     ]
    }
   ],
   "source": [
    "for i in range(3):\n",
    "    print('i =',i, ':',end='')\n",
    "    for j in range(1,10):\n",
    "        print(i*j ,end=' ')\n",
    "    print()"
   ]
  },
  {
   "cell_type": "code",
   "execution_count": 57,
   "metadata": {
    "collapsed": false
   },
   "outputs": [
    {
     "name": "stdout",
     "output_type": "stream",
     "text": [
      "        1\n",
      "       121\n",
      "      12321\n",
      "     1234321\n",
      "    123454321\n",
      "   12345654321\n",
      "  1234567654321\n",
      " 123456787654321\n"
     ]
    }
   ],
   "source": [
    "for i in range(1,9):\n",
    "    print(' '*(9-i), end='')\n",
    "    for j in range(1,i):\n",
    "        print(j, end='')\n",
    "    for j in range(i,0,-1):\n",
    "            print(j, end='')\n",
    "    print()"
   ]
  },
  {
   "cell_type": "code",
   "execution_count": 59,
   "metadata": {
    "collapsed": false
   },
   "outputs": [
    {
     "name": "stdout",
     "output_type": "stream",
     "text": [
      "Enter the value of n 5\n",
      "        * \n",
      "       * * \n",
      "      * * * \n",
      "     * * * * \n",
      "    * * * * * \n"
     ]
    }
   ],
   "source": [
    "n=int(input('Enter the value of n '))\n",
    "k = 2*n - 2\n",
    "for i in range(0, n):\n",
    "    for j in range(0, k):\n",
    "        print(end=' ')\n",
    "    k =k-1\n",
    "    for j in range(0, i+1):\n",
    "        print(\"* \", end=\"\")\n",
    "    print()"
   ]
  },
  {
   "cell_type": "code",
   "execution_count": null,
   "metadata": {
    "collapsed": true
   },
   "outputs": [],
   "source": []
  }
 ],
 "metadata": {
  "kernelspec": {
   "display_name": "Python 2",
   "language": "python",
   "name": "python2"
  },
  "language_info": {
   "codemirror_mode": {
    "name": "ipython",
    "version": 2
   },
   "file_extension": ".py",
   "mimetype": "text/x-python",
   "name": "python",
   "nbconvert_exporter": "python",
   "pygments_lexer": "ipython2",
   "version": "2.7.13"
  }
 },
 "nbformat": 4,
 "nbformat_minor": 2
}
