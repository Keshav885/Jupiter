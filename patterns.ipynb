{
 "cells": [
  {
   "cell_type": "code",
   "execution_count": 10,
   "metadata": {
    "collapsed": false
   },
   "outputs": [],
   "source": [
    "from __future__ import print_function\n"
   ]
  },
  {
   "cell_type": "code",
   "execution_count": 9,
   "metadata": {
    "collapsed": false
   },
   "outputs": [
    {
     "name": "stdout",
     "output_type": "stream",
     "text": [
      "Please enter the number of iterations:3\n",
      "Enter a number from [1, 2] for choices \n",
      "\n",
      "Enter your choice:2\n",
      "your choice is 2\n",
      "Enter a number from [1, 2] for choices \n",
      "\n",
      "Enter your choice:2\n",
      "your choice is 2\n",
      "Enter a number from [1, 2] for choices \n",
      "\n",
      "Enter your choice:2\n",
      "your choice is 2\n"
     ]
    }
   ],
   "source": [
    "n = int(input('Please enter the number of iterations:'))\n",
    "\n",
    "for i in range(0,n):\n",
    "\n",
    "    print('Enter a number from',range(1,n), 'for choices \\n')\n",
    "    choice = int(input('Enter your choice:'))\n",
    "\n",
    "    if (choice == 1):\n",
    "        print('your choice is',choice)\n",
    "    elif(choice ==2):\n",
    "        print('your choice is',choice)\n",
    "    elif(choice ==3):\n",
    "        print('your choice is',choice)\n",
    "    else:\n",
    "        print('Invalid choice')"
   ]
  },
  {
   "cell_type": "code",
   "execution_count": 11,
   "metadata": {
    "collapsed": false
   },
   "outputs": [
    {
     "name": "stdout",
     "output_type": "stream",
     "text": [
      "Please enter a number 5\n",
      "      0\n",
      "     1 1\n",
      "    2 2 2\n",
      "   3 3 3 3\n",
      "  4 4 4 4 4\n",
      " 5 5 5 5 5 5\n"
     ]
    }
   ],
   "source": [
    "n= int(input('Please enter a number '))\n",
    "\n",
    "for i in range(n+1):\n",
    "    for j in range(n):\n",
    "        print(' ',end='')\n",
    "    for j in range(i+1):\n",
    "        print('',i, end='')\n",
    "    print()\n",
    "    n-=1"
   ]
  },
  {
   "cell_type": "code",
   "execution_count": 16,
   "metadata": {
    "collapsed": false
   },
   "outputs": [
    {
     "name": "stdout",
     "output_type": "stream",
     "text": [
      "Please enter a number 5\n",
      "      0\n",
      "     1 1\n",
      "    2 2 2\n",
      "   3 3 3 3\n",
      "  4 4 4 4 4\n",
      " 5 5 5 5 5 5\n"
     ]
    }
   ],
   "source": [
    "n= int(input('Please enter a number '))\n",
    "\n",
    "for i in range(n+1):\n",
    "    print(' '*(n-i), end='')\n",
    "    for j in range(i+1):\n",
    "        print('',i, end='')\n",
    "    print()"
   ]
  },
  {
   "cell_type": "code",
   "execution_count": 2,
   "metadata": {
    "collapsed": false
   },
   "outputs": [
    {
     "name": "stdout",
     "output_type": "stream",
     "text": [
      "54321012345\n",
      "54321012345\n",
      "54321012345\n",
      "54321012345\n",
      "54321012345\n",
      "54321012345\n",
      "54321012345\n",
      "54321012345\n",
      "54321012345\n",
      "54321012345\n",
      "54321012345\n"
     ]
    }
   ],
   "source": [
    "for i in range(-5,6):\n",
    "    for j in range(-5,6):\n",
    "        print(abs(j),end='')\n",
    "    print()"
   ]
  },
  {
   "cell_type": "code",
   "execution_count": 33,
   "metadata": {
    "collapsed": false
   },
   "outputs": [
    {
     "name": "stdout",
     "output_type": "stream",
     "text": [
      "Please enter a number 5\n",
      "\n",
      "     0\n",
      "    101\n",
      "   21012\n",
      "  3210123\n",
      " 432101234\n",
      "54321012345\n"
     ]
    }
   ],
   "source": [
    "n= int(input('Please enter a number '))\n",
    "print()\n",
    "for i in range(n+1):\n",
    "    print(' '*(n-i),end='')\n",
    "    for j in range(-i,i+1):\n",
    "        print(abs(j),end='')\n",
    "    print()"
   ]
  },
  {
   "cell_type": "code",
   "execution_count": 48,
   "metadata": {
    "collapsed": false
   },
   "outputs": [
    {
     "name": "stdout",
     "output_type": "stream",
     "text": [
      "Please enter a number 9\n",
      "\n",
      "         0\n",
      "        101\n",
      "       21012\n",
      "      3210123\n",
      "     432101234\n",
      "    54321012345\n",
      "   6543210123456\n",
      "  765432101234567\n",
      " 87654321012345678\n",
      "9876543210123456789\n",
      " 87654321012345678\n",
      "  765432101234567\n",
      "   6543210123456\n",
      "    54321012345\n",
      "     432101234\n",
      "      3210123\n",
      "       21012\n",
      "        101\n",
      "         0\n"
     ]
    }
   ],
   "source": [
    "n= int(input('Please enter a number '))\n",
    "print()\n",
    "for i in range(n+1):\n",
    "    print(' '*(n-i),end='')\n",
    "    for j in range(-i,i+1):\n",
    "        print(abs(j),end='')\n",
    "    print()\n",
    "for i in range(n ,0, -1):\n",
    "    print(' '*((n+1)-i),end='')\n",
    "    for j in range(1-i,i):\n",
    "        print(abs(j),end='')\n",
    "    print()\n",
    "    "
   ]
  },
  {
   "cell_type": "code",
   "execution_count": 49,
   "metadata": {
    "collapsed": false
   },
   "outputs": [
    {
     "name": "stdout",
     "output_type": "stream",
     "text": [
      "Please input side length of diamond: 5\n",
      "     \n",
      "    1\n",
      "   222\n",
      "  33333\n",
      " 4444444\n",
      "555555555\n",
      " 4444444\n",
      "  33333\n",
      "   222\n",
      "    1\n"
     ]
    }
   ],
   "source": [
    "n = int(input(\"Please input side length of diamond: \"))\n",
    "if n> 0:           \n",
    "    for i in range(n):\n",
    "        for s in range (n - i) :\n",
    "            print(\" \", end=\"\")\n",
    "        for j in range((i * 2) - 1):\n",
    "            print(i, end=\"\")\n",
    "        print()\n",
    "    for i in range(n, 0, -1):\n",
    "        for s in range (n-i) :\n",
    "            print(\" \", end=\"\")\n",
    "        for j in range((i * 2) - 1):\n",
    "            print(i, end=\"\")\n",
    "        print()"
   ]
  },
  {
   "cell_type": "code",
   "execution_count": 43,
   "metadata": {
    "collapsed": false
   },
   "outputs": [
    {
     "name": "stdout",
     "output_type": "stream",
     "text": [
      "54321"
     ]
    }
   ],
   "source": [
    "for i in range(5,0,-1):\n",
    "    print(i,end='')"
   ]
  },
  {
   "cell_type": "code",
   "execution_count": null,
   "metadata": {
    "collapsed": true
   },
   "outputs": [],
   "source": []
  }
 ],
 "metadata": {
  "kernelspec": {
   "display_name": "Python 2",
   "language": "python",
   "name": "python2"
  },
  "language_info": {
   "codemirror_mode": {
    "name": "ipython",
    "version": 2
   },
   "file_extension": ".py",
   "mimetype": "text/x-python",
   "name": "python",
   "nbconvert_exporter": "python",
   "pygments_lexer": "ipython2",
   "version": "2.7.13"
  }
 },
 "nbformat": 4,
 "nbformat_minor": 2
}
