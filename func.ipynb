{
 "cells": [
  {
   "cell_type": "code",
   "execution_count": 11,
   "metadata": {
    "collapsed": true
   },
   "outputs": [],
   "source": [
    "from __future__ import print_function"
   ]
  },
  {
   "cell_type": "code",
   "execution_count": 12,
   "metadata": {
    "collapsed": false
   },
   "outputs": [
    {
     "data": {
      "text/plain": [
       "u'/Users/keshav/Jupiter'"
      ]
     },
     "execution_count": 12,
     "metadata": {},
     "output_type": "execute_result"
    }
   ],
   "source": [
    "pwd"
   ]
  },
  {
   "cell_type": "code",
   "execution_count": 13,
   "metadata": {
    "collapsed": false
   },
   "outputs": [
    {
     "name": "stdout",
     "output_type": "stream",
     "text": [
      "[Errno 2] No such file or directory: 'jupyter/'\n",
      "/Users/keshav/jupyter\n"
     ]
    }
   ],
   "source": [
    "cd jupyter/"
   ]
  },
  {
   "cell_type": "code",
   "execution_count": 14,
   "metadata": {
    "collapsed": false
   },
   "outputs": [
    {
     "name": "stdout",
     "output_type": "stream",
     "text": [
      "mv: rename func to jupyter: No such file or directory\r\n"
     ]
    }
   ],
   "source": [
    "mv func jupyter"
   ]
  },
  {
   "cell_type": "code",
   "execution_count": 16,
   "metadata": {
    "collapsed": false
   },
   "outputs": [],
   "source": [
    "class Book(object):\n",
    "    def __init__(self, title, author, pages):\n",
    "        print(\"A book is created\")\n",
    "        self.title = title\n",
    "        self.author = author\n",
    "        self.pages = pages\n",
    "\n",
    "    def __str__(self):\n",
    "        return \"Title:%s , author:%s, pages:%s \" %(self.title, self.author, self.pages)\n",
    "\n",
    "    def __len__(self):\n",
    "        return self.pages\n",
    "\n",
    "    def __del__(self):\n",
    "        print (\"A book is destroyed\")"
   ]
  },
  {
   "cell_type": "code",
   "execution_count": 18,
   "metadata": {
    "collapsed": false
   },
   "outputs": [
    {
     "name": "stdout",
     "output_type": "stream",
     "text": [
      "A book is created\n",
      "Title:Python Rocks! , author:Jose Portilla, pages:159 \n",
      "159\n",
      "A book is destroyed\n"
     ]
    }
   ],
   "source": [
    "book = Book(\"Python Rocks!\", \"Jose Portilla\", 159)\n",
    "\n",
    "#Special Methods\n",
    "print(book)\n",
    "print (len(book))\n",
    "del book"
   ]
  },
  {
   "cell_type": "code",
   "execution_count": 19,
   "metadata": {
    "collapsed": true
   },
   "outputs": [],
   "source": [
    "class Cylinder(object):\n",
    "    \n",
    "    def __init__(self,height=1,radius=1):\n",
    "        self.height = height\n",
    "        self.radius = radius\n",
    "        \n",
    "    def volume(self):\n",
    "        return self.height * (3.14)* (self.radius)**2\n",
    "    \n",
    "    def surface_area(self):\n",
    "        top = (3.14)* (self.radius)**2\n",
    "        return 2*top + 2*3.14*self.radius*self.height"
   ]
  },
  {
   "cell_type": "code",
   "execution_count": 20,
   "metadata": {
    "collapsed": false
   },
   "outputs": [
    {
     "data": {
      "text/plain": [
       "94.2"
      ]
     },
     "execution_count": 20,
     "metadata": {},
     "output_type": "execute_result"
    }
   ],
   "source": [
    "c = Cylinder(2,3)\n",
    "c.volume()\n",
    "c.surface_area()"
   ]
  },
  {
   "cell_type": "code",
   "execution_count": 21,
   "metadata": {
    "collapsed": false
   },
   "outputs": [
    {
     "data": {
      "text/plain": [
       "56.52"
      ]
     },
     "execution_count": 21,
     "metadata": {},
     "output_type": "execute_result"
    }
   ],
   "source": [
    "c.volume()"
   ]
  },
  {
   "cell_type": "code",
   "execution_count": 30,
   "metadata": {
    "collapsed": false
   },
   "outputs": [
    {
     "name": "stdout",
     "output_type": "stream",
     "text": [
      "*****\n",
      "*   *\n",
      "*   *\n",
      "*   *\n",
      "*****"
     ]
    }
   ],
   "source": [
    "for i in range(5):\n",
    "    print('*', end='')\n",
    "print()\n",
    "for i in range(3):\n",
    "    for j in range(5):\n",
    "        if (j==0 or j==4):\n",
    "            print('*', end='')\n",
    "        else:\n",
    "            print(' ',end='')\n",
    "    print()\n",
    "for i in range(5):\n",
    "    print('*', end='')"
   ]
  },
  {
   "cell_type": "code",
   "execution_count": 37,
   "metadata": {
    "collapsed": false
   },
   "outputs": [
    {
     "name": "stdout",
     "output_type": "stream",
     "text": [
      "Please enter a number: 5\n",
      "You entered 5\n",
      "*****\n",
      "*   *\n",
      "*   *\n",
      "*   *\n",
      "*****\n"
     ]
    },
    {
     "data": {
      "text/plain": [
       "'\\ndjs vkad js\\nnejwblkjbdfbkjldf\\n'"
      ]
     },
     "execution_count": 37,
     "metadata": {},
     "output_type": "execute_result"
    }
   ],
   "source": [
    "#Same pattern with efficient looping\n",
    "\n",
    "n =int(input('Please enter a number: '))\n",
    "print('You entered',n)\n",
    "\n",
    "for i in range(n):\n",
    "    for j in range(n):\n",
    "        if (i==0 or i==n-1 or j==0 or j==n-1):\n",
    "            print('*',end='')\n",
    "        else:\n",
    "            print(' ',end='')\n",
    "    print()\n",
    "\n",
    "\"\"\"\n",
    "n is user defined input and prints its value in next line\n",
    "\n",
    "initialised i with range of n\n",
    "\n",
    "now i starts iterating from 0 to n-1\n",
    "\n",
    "lets say n=5\n",
    "\n",
    "now i becomes i=0 enters into loop\n",
    "for i=0 now j becomes j=0 and enters into inner loop\n",
    "now i=0 j=0 checks condition and prints '*' and else is terminated and stays in same loop\n",
    "now i=0 & j=1 checks condition, as i=0 and again prints '*' and stays in same loop\n",
    "now i=0 & j=2 checks condition, as i=0 and again prints '*' and stays in same loop\n",
    "now i=0 & j=3 checks condition, as i=0 and again prints '*' and stays in same loop\n",
    "now i=0 & j=4 checks condition, as i=0 and again prints '*' and j loop is terminated as there are no more elements in it\n",
    "\n",
    "now prints a new line\n",
    "\n",
    "now i becomes i=1 and again enters into inner loop\n",
    "\n",
    "now i=1 j=0 checks condition and prints '*' and else is terminated and stays in same loop\n",
    "now i=1 j=1 checks condition as both i and j values doesn't meet condition if block fails and enters into else block and \n",
    "executes else block. prints one empty space\n",
    "\n",
    "now i=1 j=2 checks condition as both i and j values doesn't meet condition if block fails and enters into else block and \n",
    "executes else block. prints one empty space\n",
    "\n",
    "now i=1 j=3 checks condition as both i and j values doesn't meet condition if block fails and enters into else block and \n",
    "executes else block. prints one empty space\n",
    "\n",
    "now i=1 & j=4 checks condition, as i=0 and again prints '*' and j loop is terminated as there are no more elements in it\n",
    "\n",
    "and repeats same process for i=2, i=3 when i becomes 4\n",
    "\n",
    "for i=4 now j becomes j=0 and enters into inner loop\n",
    "now i=4 j=0 checks condition and prints '*' and else is terminated and stays in same loop\n",
    "now i=4 & j=1 checks condition, as i=4 and again prints '*' and stays in same loop\n",
    "now i=4 & j=2 checks condition, as i=4 and again prints '*' and stays in same loop\n",
    "now i=4 & j=3 checks condition, as i=4 and again prints '*' and stays in same loop\n",
    "now i=4 & j=4 checks condition, as i=4 and again prints '*' and j loop is terminated as there are no more elements in it\n",
    "\n",
    "\n",
    "\"\"\""
   ]
  },
  {
   "cell_type": "code",
   "execution_count": null,
   "metadata": {
    "collapsed": true
   },
   "outputs": [],
   "source": []
  }
 ],
 "metadata": {
  "kernelspec": {
   "display_name": "Python 2",
   "language": "python",
   "name": "python2"
  },
  "language_info": {
   "codemirror_mode": {
    "name": "ipython",
    "version": 2
   },
   "file_extension": ".py",
   "mimetype": "text/x-python",
   "name": "python",
   "nbconvert_exporter": "python",
   "pygments_lexer": "ipython2",
   "version": "2.7.13"
  }
 },
 "nbformat": 4,
 "nbformat_minor": 2
}
