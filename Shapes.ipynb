{
 "cells": [
  {
   "cell_type": "code",
   "execution_count": 2,
   "metadata": {
    "collapsed": true
   },
   "outputs": [],
   "source": [
    "from __future__ import print_function"
   ]
  },
  {
   "cell_type": "code",
   "execution_count": 31,
   "metadata": {
    "collapsed": false
   },
   "outputs": [
    {
     "name": "stdout",
     "output_type": "stream",
     "text": [
      "ooooo\n",
      "o   o\n",
      "o   o\n",
      "ooooo\n",
      "o   o\n",
      "o   o\n"
     ]
    },
    {
     "data": {
      "text/plain": [
       "'\\nDRY RUN:\\n\\ninitialised i from 0 to 5 \\n\\ni=0 and enters into loop and inner loop j is assigned from 0 to 4 \\n\\nnow i=0 and j=0 enters into inner loop and checks for condition\\n                when i,j\\n\\n'"
      ]
     },
     "execution_count": 31,
     "metadata": {},
     "output_type": "execute_result"
    }
   ],
   "source": [
    "for i in range(6):\n",
    "    for j in range(5):\n",
    "        if((i==0 or i==3) or (j==0 or j==4)):\n",
    "            print('o', end='')\n",
    "        else:\n",
    "            print(' ',end='')\n",
    "    print()\n",
    "    \n",
    "       \n",
    "\n",
    "#DRY RUN:\n",
    "\n",
    "#initialised i from 0 to 5 \n",
    "\n",
    "#i=0 and enters into loop and inner loop j is assigned from 0 to 4 \n",
    "\n",
    "#now i=0 and j=0 enters into inner loop and checks for condition\n",
    "#                as i=0 and j=0 condition is satisfied and executs if block to print 'o' and stays in same inner loop\n",
    "#now i=0 and j=1 checks if condition and logical or is satisfied as i==0 and again prints 'o'  and stays in same inner loop\n",
    "#now i=0 and j=2 checks if condition and logical or is satisfied as i==0 and again prints 'o'  and stays in same inner loop\n",
    "#now i=0 and j=3 checks if condition and logical or is satisfied as i==0 and again prints 'o'  and stays in same inner loop\n",
    "#now i=0 and j=4 checks if condition and logical or is satisfied as i==0 and again prints 'o'  and terminates from inner loop\n",
    "#                    as values in j loop ran out\n",
    "\n"
   ]
  },
  {
   "cell_type": "code",
   "execution_count": 4,
   "metadata": {
    "collapsed": false
   },
   "outputs": [
    {
     "name": "stdout",
     "output_type": "stream",
     "text": [
      "o    o\n",
      "oo   o\n",
      "o o  o\n",
      "o  o o\n",
      "o   oo\n",
      "o    o\n"
     ]
    }
   ],
   "source": [
    "for i in range(6):\n",
    "    print('o',end='')\n",
    "    for j in range(1,6):\n",
    "        if(j==i or j==5):\n",
    "            print('o',end='')\n",
    "        else:\n",
    "            print(' ',end='')\n",
    "    print()"
   ]
  },
  {
   "cell_type": "code",
   "execution_count": 5,
   "metadata": {
    "collapsed": false
   },
   "outputs": [
    {
     "name": "stdout",
     "output_type": "stream",
     "text": [
      "oooooo\n",
      "    o \n",
      "   o  \n",
      "  o   \n",
      " o    \n",
      "oooooo\n"
     ]
    }
   ],
   "source": [
    "for i in range(6):\n",
    "    for j in range(6):\n",
    "        if (i==0 or i==5 or i+j==5):\n",
    "            print('o', end='')\n",
    "        else:\n",
    "            print(' ', end='')\n",
    "    print()\n"
   ]
  },
  {
   "cell_type": "code",
   "execution_count": 30,
   "metadata": {
    "collapsed": false
   },
   "outputs": [
    {
     "name": "stdout",
     "output_type": "stream",
     "text": [
      "     a \n",
      "    b b \n",
      "   c c c \n",
      "  d d d d \n",
      " e e e e e \n",
      "f f f f f f \n"
     ]
    }
   ],
   "source": [
    "a = 97\n",
    "for i in range(0,6):\n",
    "    print(' '*(5-i), end='')\n",
    "    for j in range(0, i+1):\n",
    "        ch = chr(a)\n",
    "        print(ch, end=\" \")\n",
    "    a+=1\n",
    "    print()"
   ]
  },
  {
   "cell_type": "code",
   "execution_count": 22,
   "metadata": {
    "collapsed": false
   },
   "outputs": [],
   "source": [
    "class Line():\n",
    "    def __init__(self,coor1,coor2):\n",
    "        \n",
    "        self.coor1=coor1\n",
    "        self.coor2=coor2\n",
    "        \n",
    "    def distance(self):\n",
    "        x1,y1=self.coor1\n",
    "        x2,y2= self.coor2\n",
    "        return ((x2-x1)**2 + (y2-y1)**2)**(0.5)\n",
    "    \n",
    "    def slope(self):\n",
    "        x1,y1=self.coor1\n",
    "        x2,y2= self.coor2\n",
    "        \n",
    "        return float (y2-y1)/(x2-x1)"
   ]
  },
  {
   "cell_type": "code",
   "execution_count": 23,
   "metadata": {
    "collapsed": false
   },
   "outputs": [
    {
     "data": {
      "text/plain": [
       "9.433981132056603"
      ]
     },
     "execution_count": 23,
     "metadata": {},
     "output_type": "execute_result"
    }
   ],
   "source": [
    "l=Line((3,2),(8,10))\n",
    "l.distance()"
   ]
  },
  {
   "cell_type": "code",
   "execution_count": 24,
   "metadata": {
    "collapsed": false
   },
   "outputs": [
    {
     "data": {
      "text/plain": [
       "1.6"
      ]
     },
     "execution_count": 24,
     "metadata": {},
     "output_type": "execute_result"
    }
   ],
   "source": [
    "l.slope()"
   ]
  },
  {
   "cell_type": "code",
   "execution_count": 26,
   "metadata": {
    "collapsed": true
   },
   "outputs": [],
   "source": [
    "class Cylinder(object):\n",
    "    \n",
    "    def __init__(self,height=1,radius=1):\n",
    "        self.height = height\n",
    "        self.radius = radius\n",
    "        \n",
    "    def volume(self):\n",
    "        return self.height * (3.14)* (self.radius)**2\n",
    "    \n",
    "    def surface_area(self):\n",
    "        t = (3.14)* (self.radius)**2\n",
    "        return 2*t + 2*3.14*self.radius*self.height"
   ]
  },
  {
   "cell_type": "code",
   "execution_count": 27,
   "metadata": {
    "collapsed": true
   },
   "outputs": [],
   "source": [
    "c = Cylinder(2,3)"
   ]
  },
  {
   "cell_type": "code",
   "execution_count": 28,
   "metadata": {
    "collapsed": false
   },
   "outputs": [
    {
     "data": {
      "text/plain": [
       "56.52"
      ]
     },
     "execution_count": 28,
     "metadata": {},
     "output_type": "execute_result"
    }
   ],
   "source": [
    "c.volume()"
   ]
  },
  {
   "cell_type": "code",
   "execution_count": 29,
   "metadata": {
    "collapsed": false
   },
   "outputs": [
    {
     "data": {
      "text/plain": [
       "94.2"
      ]
     },
     "execution_count": 29,
     "metadata": {},
     "output_type": "execute_result"
    }
   ],
   "source": [
    "c.surface_area()"
   ]
  },
  {
   "cell_type": "code",
   "execution_count": 32,
   "metadata": {
    "collapsed": false
   },
   "outputs": [
    {
     "name": "stdout",
     "output_type": "stream",
     "text": [
      "ooooo\n",
      "o   o\n",
      "o   o\n",
      "ooooo\n",
      "o   o\n",
      "o   o\n"
     ]
    }
   ],
   "source": [
    "for i in range(6):\n",
    "    for j in range(5):\n",
    "        if((i==0 or i==3) or (j==0 or j==4)):\n",
    "            print('o', end='')\n",
    "        else:\n",
    "            print(' ',end='')\n",
    "    print()"
   ]
  },
  {
   "cell_type": "code",
   "execution_count": null,
   "metadata": {
    "collapsed": true
   },
   "outputs": [],
   "source": []
  }
 ],
 "metadata": {
  "kernelspec": {
   "display_name": "Python 2",
   "language": "python",
   "name": "python2"
  },
  "language_info": {
   "codemirror_mode": {
    "name": "ipython",
    "version": 2
   },
   "file_extension": ".py",
   "mimetype": "text/x-python",
   "name": "python",
   "nbconvert_exporter": "python",
   "pygments_lexer": "ipython2",
   "version": "2.7.13"
  }
 },
 "nbformat": 4,
 "nbformat_minor": 2
}
