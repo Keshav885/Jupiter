{
 "cells": [
  {
   "cell_type": "code",
   "execution_count": 8,
   "metadata": {
    "collapsed": false
   },
   "outputs": [],
   "source": [
    "def vol(rad):\n",
    "    return (4.0/3)*(3.14)*(rad**3)    "
   ]
  },
  {
   "cell_type": "code",
   "execution_count": 9,
   "metadata": {
    "collapsed": false
   },
   "outputs": [
    {
     "data": {
      "text/plain": [
       "4186.666666666667"
      ]
     },
     "execution_count": 9,
     "metadata": {},
     "output_type": "execute_result"
    }
   ],
   "source": [
    "vol(10)"
   ]
  },
  {
   "cell_type": "code",
   "execution_count": 39,
   "metadata": {
    "collapsed": true
   },
   "outputs": [],
   "source": [
    "s= 'This is a Normal STRING for checking UP and Lower letters'\n",
    "d= s.split()"
   ]
  },
  {
   "cell_type": "code",
   "execution_count": 40,
   "metadata": {
    "collapsed": false
   },
   "outputs": [
    {
     "data": {
      "text/plain": [
       "['This',\n",
       " 'is',\n",
       " 'a',\n",
       " 'Normal',\n",
       " 'STRING',\n",
       " 'for',\n",
       " 'checking',\n",
       " 'UP',\n",
       " 'and',\n",
       " 'Lower',\n",
       " 'letters']"
      ]
     },
     "execution_count": 40,
     "metadata": {},
     "output_type": "execute_result"
    }
   ],
   "source": [
    "d"
   ]
  },
  {
   "cell_type": "code",
   "execution_count": 41,
   "metadata": {
    "collapsed": false
   },
   "outputs": [],
   "source": [
    "def up_low(s):\n",
    "    x=0\n",
    "    y=0\n",
    "    for c in s:\n",
    "        if c.isupper():\n",
    "            x+=1\n",
    "        else:\n",
    "            y+=1\n",
    "    print(x)\n",
    "    print(y)"
   ]
  },
  {
   "cell_type": "code",
   "execution_count": 42,
   "metadata": {
    "collapsed": false
   },
   "outputs": [
    {
     "name": "stdout",
     "output_type": "stream",
     "text": [
      "11\n",
      "51\n"
     ]
    }
   ],
   "source": [
    "s= 'This is a Normal STRING for checking UP and Lower case letters'\n",
    "up_low(s)"
   ]
  },
  {
   "cell_type": "code",
   "execution_count": 45,
   "metadata": {
    "collapsed": false
   },
   "outputs": [
    {
     "name": "stdout",
     "output_type": "stream",
     "text": [
      "120\n"
     ]
    }
   ],
   "source": [
    "l = [1,2,3,4,5]\n",
    "\n",
    "for i in l:\n",
    "    \n",
    "i=l[0]*l[1]*l[2]*l[3]*l[4]\n",
    "\n",
    "print(i)"
   ]
  },
  {
   "cell_type": "code",
   "execution_count": 49,
   "metadata": {
    "collapsed": false
   },
   "outputs": [],
   "source": [
    "def mul(numbers):  \n",
    "    total = 1\n",
    "    for x in numbers:\n",
    "        total *= x  \n",
    "    return total "
   ]
  },
  {
   "cell_type": "code",
   "execution_count": 50,
   "metadata": {
    "collapsed": false
   },
   "outputs": [
    {
     "data": {
      "text/plain": [
       "24"
      ]
     },
     "execution_count": 50,
     "metadata": {},
     "output_type": "execute_result"
    }
   ],
   "source": [
    "mul([1,2,3,4])"
   ]
  },
  {
   "cell_type": "code",
   "execution_count": 56,
   "metadata": {
    "collapsed": false
   },
   "outputs": [
    {
     "name": "stdout",
     "output_type": "stream",
     "text": [
      "Sachin pada\n",
      "Sachin.pada@company.com\n",
      "2341124511\n",
      "()\n",
      "Rohit Sharma\n",
      "Rohit.Sharma@company.com\n",
      "2882888289\n"
     ]
    }
   ],
   "source": [
    "class Employee:\n",
    "    def __init__(self,first,last,phno):\n",
    "        self.first= first\n",
    "        self.last= last\n",
    "        self.phno= phno\n",
    "        self.email= first+'.'+last+'@company.com'\n",
    "        \n",
    "emp1=Employee('Sachin','pada',2341124511)\n",
    "emp2=Employee('Rohit','Sharma',2882888289)\n",
    "print('{} {}' .format(emp1.first ,emp1.last))\n",
    "print(emp1.email)\n",
    "print(emp1.phno)\n",
    "print()\n",
    "print('{} {}' .format(emp2.first ,emp2.last))\n",
    "print(emp2.email)\n",
    "print(emp2.phno)"
   ]
  },
  {
   "cell_type": "code",
   "execution_count": 55,
   "metadata": {
    "collapsed": false
   },
   "outputs": [
    {
     "name": "stdout",
     "output_type": "stream",
     "text": [
      "2007 honda\n"
     ]
    },
    {
     "data": {
      "text/plain": [
       "441.5400000000001"
      ]
     },
     "execution_count": 55,
     "metadata": {},
     "output_type": "execute_result"
    }
   ],
   "source": [
    "class Car():\n",
    "    \n",
    "    def __init__(self,brand,model,year):\n",
    "        self.brand=brand\n",
    "        self.model=model\n",
    "        self.year=year\n",
    "    def speed(self):\n",
    "        year=self.year\n",
    "        return year*2.2/10\n",
    "    \n",
    "    \n",
    "car1=Car('honda','coupe',2007)\n",
    "print('{} {}'.format(car1.year,car1.brand))\n",
    "\n",
    "car1.speed()"
   ]
  },
  {
   "cell_type": "code",
   "execution_count": 58,
   "metadata": {
    "collapsed": false
   },
   "outputs": [
    {
     "name": "stdout",
     "output_type": "stream",
     "text": [
      "Speed of the car is 411 kmph\n",
      "Price of the car is $34952\n"
     ]
    }
   ],
   "source": [
    "class Car():\n",
    "    def __init__(self,year,color):\n",
    "        self.color =color\n",
    "        self.year =year\n",
    "        \n",
    "        if year<=2000:\n",
    "            self.speed = 'Speed of the car is '+str((year*2)/34)+' kmph'\n",
    "        elif year<=2005:\n",
    "            self.speed = 'Speed of the car is '+(year*2)/17+' kmph'\n",
    "        elif year>=2005:\n",
    "            self.speed = 'Speed of the car is '+str((year*2)/10)+' kmph'\n",
    "            \n",
    "    def price(self):\n",
    "        self.price = 'Price of the car is $'+str(self.year*17)\n",
    "        return self.price\n",
    "\n",
    "    \n",
    "car1= Car(2056,'black')\n",
    "print(car1.speed)\n",
    "\n",
    "print(car1.price())"
   ]
  },
  {
   "cell_type": "code",
   "execution_count": null,
   "metadata": {
    "collapsed": true
   },
   "outputs": [],
   "source": []
  }
 ],
 "metadata": {
  "kernelspec": {
   "display_name": "Python 2",
   "language": "python",
   "name": "python2"
  },
  "language_info": {
   "codemirror_mode": {
    "name": "ipython",
    "version": 2
   },
   "file_extension": ".py",
   "mimetype": "text/x-python",
   "name": "python",
   "nbconvert_exporter": "python",
   "pygments_lexer": "ipython2",
   "version": "2.7.13"
  }
 },
 "nbformat": 4,
 "nbformat_minor": 2
}
